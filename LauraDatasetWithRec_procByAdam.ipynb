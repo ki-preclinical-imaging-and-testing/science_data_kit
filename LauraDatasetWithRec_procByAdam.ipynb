{
 "cells": [
  {
   "cell_type": "code",
   "execution_count": null,
   "id": "a1809671-9db8-4918-b0fe-c6b45e842880",
   "metadata": {},
   "outputs": [],
   "source": [
    "import pandas as pd\n",
    "\n",
    "df = pd.read_csv(\"LauraDatasetWithRec_fromAnderson.csv\")\n",
    "\n",
    "df = df[['RecFolder','FullDescription','TumorBurden']]\n",
    "df = df.rename(columns={\n",
    "    'RecFolder': 'filepath',\n",
    "    'FullDescription': 'tumorDesc',\n",
    "    'TumorBurden': 'tumorBurden'\n",
    "})\n",
    "\n",
    "df['Label'] = 'TumorAnalysis'\n",
    "df['originFile'] = 'LauraDatasetWithRec_fromAnderson.csv'\n",
    "df['date'] = '2024-09-11'\n",
    "df['filepath'] = df['filepath'].apply(lambda x: x.rstrip('/'))\n",
    "df['filepath'] = df['filepath'].apply(lambda x: x.replace('/mnt/bmc-lab6-archive', '/mnt/server/bmc-lab6/atwai/archive'))\n",
    "df['name'] = df['filepath'].apply(lambda x: x.split('/')[-1])\n",
    "df['extension'] = '-nii-256x256x256'\n",
    "df['filepath'] = df['filepath'].apply(lambda x: x.replace('-nii-256x256x256', ''))\n",
    "df['filepath'] = df['filepath'].apply(lambda x: '/'.join(x.split('/')))\n",
    "\n",
    "df.to_csv(\"LauraDatasetWithRec_procByAdam.csv\")"
   ]
  }
 ],
 "metadata": {
  "kernelspec": {
   "display_name": "Python 3 (ipykernel)",
   "language": "python",
   "name": "python3"
  },
  "language_info": {
   "codemirror_mode": {
    "name": "ipython",
    "version": 3
   },
   "file_extension": ".py",
   "mimetype": "text/x-python",
   "name": "python",
   "nbconvert_exporter": "python",
   "pygments_lexer": "ipython3",
   "version": "3.9.12"
  }
 },
 "nbformat": 4,
 "nbformat_minor": 5
}
