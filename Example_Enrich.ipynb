{
 "cells": [
  {
   "cell_type": "code",
   "execution_count": 1,
   "id": "18229571-e7f8-444c-aafe-8d752d27ad6c",
   "metadata": {},
   "outputs": [
    {
     "name": "stdout",
     "output_type": "stream",
     "text": [
      "Connection successful!\n"
     ]
    },
    {
     "data": {
      "text/plain": [
       "True"
      ]
     },
     "execution_count": 1,
     "metadata": {},
     "output_type": "execute_result"
    }
   ],
   "source": [
    "from utils.graph_utils import Neo4jConnection\n",
    "import numpy as np\n",
    "\n",
    "\n",
    "def fetch_imaging_sessions_by_mouse(session_count_min=1, contains_tbd=False):\n",
    "    _substr = \"\"\n",
    "    if not contains_tbd:\n",
    "        _substr = \"NOT\"\n",
    "    return neocon.query_to_dataframe(f\"\"\"\n",
    "        MATCH (m:Mouse)<-[i:IMAGED]-(ims:ImagingSession)\n",
    "        WITH m, COUNT(DISTINCT ims) AS session_count\n",
    "        WHERE session_count >= {session_count_min}\n",
    "        AND {_substr} ( m.uid CONTAINS 'TBD' or m.uid CONTAINS 'nan' ) \n",
    "        MATCH (m)<-[i:IMAGED]-(ims)  // Re-match after filtering\n",
    "        RETURN m.uid AS uid, COUNT(DISTINCT ims.filepath) AS session_count, COLLECT(ims.filepath) AS filepaths\n",
    "        ORDER BY session_count DESC \n",
    "    \"\"\")\n",
    "\n",
    "def fetch_imaging_session_count_across_mice(session_count_min=1, contains_tbd=False, tbd_filter=True):\n",
    "    _filter = \"\"\n",
    "    if tbd_filter:\n",
    "        _substr = \"\"\n",
    "        if not contains_tbd:\n",
    "            _substr = \"NOT\"\n",
    "        _filter = f\"        AND {_substr} ( m.uid CONTAINS 'TBD' or m.uid CONTAINS 'nan' )\"\n",
    "    return neocon.query_to_value(f\"\"\"\n",
    "        MATCH (m:Mouse)<-[i:IMAGED]-(ims:ImagingSession)\n",
    "        WITH m, COUNT(DISTINCT ims) AS session_count\n",
    "        WHERE session_count >= {session_count_min}\n",
    "        {_filter}\n",
    "        MATCH (m)<-[i:IMAGED]-(ims)  // Re-match after filtering\n",
    "        RETURN COUNT(DISTINCT ims.filepath) AS session_count\n",
    "    \"\"\")\n",
    "\n",
    "def push_dataframe_to_label_matches(df, \n",
    "                                    label_col='Label', \n",
    "                                    property_cols=[],\n",
    "                                    match_cols=[]):\n",
    "    \n",
    "    return neocon.push_dataframe(\n",
    "        df=df,\n",
    "        label_col=label_col,\n",
    "        property_cols=property_cols,\n",
    "        match_cols=match_cols\n",
    "    )\n",
    "\n",
    "\n",
    "db_config = {\n",
    "    'uri': 'bolt://localhost:7689',\n",
    "    'user': 'neo4j',\n",
    "    'password': 'neo4jiscool',\n",
    "    'database': 'neo4j'\n",
    "}\n",
    "\n",
    "neocon = Neo4jConnection(**db_config)\n",
    "neocon.test_connection()"
   ]
  },
  {
   "cell_type": "code",
   "execution_count": 2,
   "id": "2a8e77da-062d-4576-9809-fc29de6d9d0e",
   "metadata": {},
   "outputs": [
    {
     "name": "stdout",
     "output_type": "stream",
     "text": [
      "Success! (Counts match)\n",
      "                         count:  2765\n",
      "      count_w_unique_mouse_uid:  1818\n",
      "   count_w_ambiguous_mouse_uid:   947\n"
     ]
    }
   ],
   "source": [
    "d = {}\n",
    "\n",
    "d['Mouse'] = {}\n",
    "d['Mouse']['ImagingSessions'] = {}\n",
    "d['Mouse']['ImagingSessions']['unique'] = fetch_imaging_sessions_by_mouse(contains_tbd=False)\n",
    "d['Mouse']['ImagingSessions']['ambiguity'] = fetch_imaging_sessions_by_mouse(contains_tbd=True)\n",
    "\n",
    "d['ImagingSession'] = {}\n",
    "d['ImagingSession']['count'] = fetch_imaging_session_count_across_mice(session_count_min=1, tbd_filter=False, contains_tbd=True)\n",
    "d['ImagingSession']['count_w_unique_mouse_uid'] = fetch_imaging_session_count_across_mice(session_count_min=1, tbd_filter=True, contains_tbd=False)\n",
    "d['ImagingSession']['count_w_ambiguous_mouse_uid'] = fetch_imaging_session_count_across_mice(session_count_min=1, tbd_filter=True, contains_tbd=True)\n",
    "\n",
    "count_total = d['ImagingSession']['count']\n",
    "count_combined = d['ImagingSession']['count_w_unique_mouse_uid'] + d['ImagingSession']['count_w_ambiguous_mouse_uid']\n",
    "if not count_total == count_combined:\n",
    "    print(f\"WARNING: Counts not matching!\")\n",
    "    print(f\"            TOTAL: {count_total:5d}\")\n",
    "    print(f\"         COMBINED: {count_total:5d}\")\n",
    "    \n",
    "else:\n",
    "    print(f\"Success! (Counts match)\")\n",
    "    for _k, _v in d['ImagingSession'].items():\n",
    "        print(f\"{_k:>30s}: {_v:5d}\")\n",
    "\n"
   ]
  },
  {
   "cell_type": "code",
   "execution_count": 3,
   "id": "784c49f9-517a-4f53-8f63-aefb37cc4168",
   "metadata": {},
   "outputs": [],
   "source": [
    "mice = d['Mouse']['ImagingSessions']['unique']\n",
    "\n",
    "_filt = mice.apply(lambda row: len(row['filepaths']) == row['session_count'], axis=1)\n",
    "if len(mice[~_filt]):\n",
    "    print(\"WARNING: Session counts do not match found filepaths.\")\n",
    "\n",
    "mice = mice[mice['session_count'] >= 3].reset_index(drop=True)"
   ]
  },
  {
   "cell_type": "markdown",
   "id": "76a752c1-2bb0-4958-9706-c81f541fbc0b",
   "metadata": {},
   "source": [
    "## An example pull, enrich, and then push"
   ]
  },
  {
   "cell_type": "code",
   "execution_count": 4,
   "id": "481a69b3-96c6-4a30-9ac7-1105a258f85a",
   "metadata": {},
   "outputs": [],
   "source": [
    "def fetch_imaging_session_by_mouse_and_date(session_count_min=1, contains_tbd=False, tbd_filter=True):\n",
    "    _filter = \"\"\n",
    "    if tbd_filter:\n",
    "        _substr = \"\"\n",
    "        if not contains_tbd:\n",
    "            _substr = \"NOT\"\n",
    "        _filter = f\"        AND {_substr} ( m.uid CONTAINS 'TBD' or m.uid CONTAINS 'nan' )\"\n",
    "    return neocon.query_to_dataframe(f\"\"\"\n",
    "        MATCH (m:Mouse)<-[i:IMAGED]-(ims:ImagingSession)\n",
    "        WITH m, COUNT(DISTINCT ims) AS session_count\n",
    "        WHERE session_count >= {session_count_min}\n",
    "        {_filter}\n",
    "        MATCH (m)<-[i:IMAGED]-(ims)  // Re-match after filtering\n",
    "        RETURN m.uid AS uid, ims.Date AS date, ims.filepath AS filepath\n",
    "    \"\"\")\n",
    "\n",
    "sessions = fetch_imaging_session_by_mouse_and_date(session_count_min=3)\n",
    "sessions['Label'] = \"Analysis\"\n",
    "sessions['is'] = 'ml_model_12345_v2' ## change this by measurement\n",
    "sessions['value'] = np.random.rand(len(sessions)) ## edit this for whatever you want to push back in\n",
    "sessions['units'] = 'probability (0-1)' # edit this to describe the measurement clearlyy\n",
    "\n",
    "push_dataframe_to_label_matches(sessions, \n",
    "                                label_col='Label',\n",
    "                                property_cols=['uid', 'date', 'is', 'value', 'units'], \n",
    "                                match_cols=['uid', 'date', 'is'])"
   ]
  },
  {
   "cell_type": "code",
   "execution_count": 5,
   "id": "e6486e90-4269-4da2-b568-c56456d5469e",
   "metadata": {},
   "outputs": [],
   "source": [
    "sessions['Link_Label'] = 'ImagingSession'"
   ]
  },
  {
   "cell_type": "code",
   "execution_count": 8,
   "id": "2ede20ae-9c4b-4342-a0ce-2307b4f0e8be",
   "metadata": {},
   "outputs": [],
   "source": [
    "neocon.push_and_link_dataframe(sessions,\n",
    "                               label_col='Label', property_cols=['uid', 'date', 'is', 'value', 'units'], match_cols=['uid', 'date', 'is'],\n",
    "                               node_match_label='Link_Label', node_match_properties=['uid', 'date'], node_match_relationship_type='ANALYZED')"
   ]
  },
  {
   "cell_type": "markdown",
   "id": "a2054560-afc9-4d33-861a-b4935849c216",
   "metadata": {},
   "source": [
    "NOTE: This can be run repeatedly on the same match_cols and property calls, following the rules of Cypher"
   ]
  }
 ],
 "metadata": {
  "kernelspec": {
   "display_name": "Python 3 (ipykernel)",
   "language": "python",
   "name": "python3"
  },
  "language_info": {
   "codemirror_mode": {
    "name": "ipython",
    "version": 3
   },
   "file_extension": ".py",
   "mimetype": "text/x-python",
   "name": "python",
   "nbconvert_exporter": "python",
   "pygments_lexer": "ipython3",
   "version": "3.9.12"
  }
 },
 "nbformat": 4,
 "nbformat_minor": 5
}
