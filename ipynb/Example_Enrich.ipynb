{
 "cells": [
  {
   "cell_type": "markdown",
   "id": "f6c43826-5e55-4574-a5d1-36f5ac66d29c",
   "metadata": {},
   "source": [
    "# Pull imaging session data and enrich\n",
    "\n",
    "Using Python and spreadsheets, we can update the knowledge graph. Follow along below."
   ]
  },
  {
   "cell_type": "markdown",
   "id": "1e81b7de-fcd1-43e8-b833-8147553b8965",
   "metadata": {},
   "source": [
    "# Enrich a dataset\n",
    "\n",
    "We can use this tool to enrich datasets ad hoc in a knowledge graph."
   ]
  },
  {
   "cell_type": "markdown",
   "id": "63985aa5-74b1-40b9-93fd-59a66b42ebe5",
   "metadata": {
    "jp-MarkdownHeadingCollapsed": true
   },
   "source": [
    "## Get the data, work with it, and then enrich the KG\n",
    "\n",
    "Each project will differ. Here, we need to:\n",
    "\n",
    "1. Pull nodes of interest (NOI) from the database\n",
    "2. Compute using NOI metadata in Python/iPyNotebook or something else\n",
    "3. Merge results into a DataFrame\n",
    "4. Push in using one of the functions found in `science_data_kit.utils.graph_utils.Neo4jConnection`"
   ]
  },
  {
   "cell_type": "markdown",
   "id": "d75a7b1d-f397-456e-a41a-1a4c2f55da12",
   "metadata": {
    "jp-MarkdownHeadingCollapsed": true
   },
   "source": [
    "## Connect to the database with the included driver\n",
    "\n",
    "First of all, ensure you are pointing to the correct configuration file\n",
    "\n",
    "By default, this software assumes `.db_config.yaml`. However, the user can change this. The general recommendation is to copy the template, `db_config.yaml` to `.db_config.yaml`, and then edit `.db_yaml`.\n",
    "\n",
    "    cp db_config.yaml .db_cofig.yaml\n",
    "    vi .db_config.yaml #enter proper credentials with editor of choice\n",
    "    \n",
    "Once that is in place, you should be able to run the following."
   ]
  },
  {
   "cell_type": "code",
   "execution_count": 3,
   "id": "18229571-e7f8-444c-aafe-8d752d27ad6c",
   "metadata": {},
   "outputs": [
    {
     "name": "stdout",
     "output_type": "stream",
     "text": [
      "Connection successful!\n"
     ]
    },
    {
     "data": {
      "text/plain": [
       "True"
      ]
     },
     "execution_count": 3,
     "metadata": {},
     "output_type": "execute_result"
    }
   ],
   "source": [
    "from utils.graph_utils import Neo4jConnection, load_db_config\n",
    "\n",
    "neocon = Neo4jConnection(config_file='.db_config.yaml')\n",
    "neocon.test_connection()"
   ]
  },
  {
   "cell_type": "markdown",
   "id": "4a48532e-1ef1-471c-a1f9-4eed24297f88",
   "metadata": {
    "jp-MarkdownHeadingCollapsed": true
   },
   "source": [
    "## Build a submodule\n",
    "\n",
    "We are often working with data ad hoc. This means we cannot define the constraints of the problem in a clear and general sense. As a result, `science_data_kit` focuses on providing barebones skeleton code to expedite building out your use case on a project-by-project basis.\n",
    "\n",
    "Below, you can find some example queries that utilize the built-in functions to collect relevant information"
   ]
  },
  {
   "cell_type": "code",
   "execution_count": null,
   "id": "567adc66-84fb-4f0a-b935-e752df22e1ac",
   "metadata": {},
   "outputs": [],
   "source": [
    "import numpy as np\n",
    "\n",
    "\n",
    "def fetch_imaging_sessions_by_mouse(session_count_min=1, contains_tbd=False):\n",
    "    _substr = \"\"\n",
    "    if not contains_tbd:\n",
    "        _substr = \"NOT\"\n",
    "    return neocon.query_to_dataframe(f\"\"\"\n",
    "        MATCH (m:Mouse)<-[i:IMAGED]-(ims:ImagingSession)\n",
    "        WITH m, COUNT(DISTINCT ims) AS session_count\n",
    "        WHERE session_count >= {session_count_min}\n",
    "        AND {_substr} ( m.uid CONTAINS 'TBD' or m.uid CONTAINS 'nan' ) \n",
    "        MATCH (m)<-[i:IMAGED]-(ims)  // Re-match after filtering\n",
    "        RETURN m.uid AS uid, COUNT(DISTINCT ims.filepath) AS session_count, COLLECT(ims.filepath) AS filepaths\n",
    "        ORDER BY session_count DESC \n",
    "    \"\"\")\n",
    "\n",
    "def fetch_imaging_session_by_mouse_and_date(session_count_min=1, contains_tbd=False, tbd_filter=True):\n",
    "    _filter = \"\"\n",
    "    if tbd_filter:\n",
    "        _substr = \"\"\n",
    "        if not contains_tbd:\n",
    "            _substr = \"NOT\"\n",
    "        _filter = f\"        AND {_substr} ( m.uid CONTAINS 'TBD' or m.uid CONTAINS 'nan' )\"\n",
    "    return neocon.query_to_dataframe(f\"\"\"\n",
    "        MATCH (m:Mouse)<-[i:IMAGED]-(ims:ImagingSession)\n",
    "        WITH m, COUNT(DISTINCT ims) AS session_count\n",
    "        WHERE session_count >= {session_count_min}\n",
    "        {_filter}\n",
    "        MATCH (m)<-[i:IMAGED]-(ims)  // Re-match after filtering\n",
    "        RETURN m.uid AS uid, ims.Date AS date, ims.filepath AS filepath\n",
    "    \"\"\")\n",
    "\n",
    "def fetch_imaging_session_count_across_mice(session_count_min=1, contains_tbd=False, tbd_filter=True):\n",
    "    _filter = \"\"\n",
    "    if tbd_filter:\n",
    "        _substr = \"\"\n",
    "        if not contains_tbd:\n",
    "            _substr = \"NOT\"\n",
    "        _filter = f\"        AND {_substr} ( m.uid CONTAINS 'TBD' or m.uid CONTAINS 'nan' )\"\n",
    "    return neocon.query_to_value(f\"\"\"\n",
    "        MATCH (m:Mouse)<-[i:IMAGED]-(ims:ImagingSession)\n",
    "        WITH m, COUNT(DISTINCT ims) AS session_count\n",
    "        WHERE session_count >= {session_count_min}\n",
    "        {_filter}\n",
    "        MATCH (m)<-[i:IMAGED]-(ims)  // Re-match after filtering\n",
    "        RETURN COUNT(DISTINCT ims.filepath) AS session_count\n",
    "    \"\"\")\n",
    "\n"
   ]
  },
  {
   "cell_type": "markdown",
   "id": "a3e742f6-e4de-4f22-8543-89dc2c9e271a",
   "metadata": {
    "jp-MarkdownHeadingCollapsed": true
   },
   "source": [
    "## Aggregate relevant information for the analysis directly from the daatbase\n",
    "\n",
    "Building out notebooks like this allows us to run a preliminary analysis and then just re-run when all the data arrives.\n",
    "\n",
    "Here are some ways I've used the above functions to collect relevant information."
   ]
  },
  {
   "cell_type": "code",
   "execution_count": 2,
   "id": "671e8e94-6769-4102-bf4b-9b581be4a2bb",
   "metadata": {},
   "outputs": [],
   "source": [
    "d = {}\n",
    "\n",
    "d['Mouse'] = {}\n",
    "d['Mouse']['ImagingSessions'] = {}\n",
    "d['Mouse']['ImagingSessions']['unique'] = fetch_imaging_sessions_by_mouse(contains_tbd=False)\n",
    "d['Mouse']['ImagingSessions']['ambiguity'] = fetch_imaging_sessions_by_mouse(contains_tbd=True)\n",
    "\n",
    "d['ImagingSession'] = {}\n",
    "d['ImagingSession']['count'] = fetch_imaging_session_count_across_mice(\n",
    "    session_count_min=1, tbd_filter=False, contains_tbd=True)\n",
    "d['ImagingSession']['count_w_unique_mouse_uid'] = fetch_imaging_session_count_across_mice(\n",
    "    session_count_min=1, tbd_filter=True, contains_tbd=False)\n",
    "d['ImagingSession']['count_w_ambiguous_mouse_uid'] = fetch_imaging_session_count_across_mice(\n",
    "    session_count_min=1, tbd_filter=True, contains_tbd=True)"
   ]
  },
  {
   "cell_type": "markdown",
   "id": "7ba8521b-24d5-40e9-9b8b-a4d620beddda",
   "metadata": {
    "jp-MarkdownHeadingCollapsed": true
   },
   "source": [
    "## Unit Testing Data\n",
    "\n",
    "Here are some examples of checks we can run to ensure that data looks correct from a few different perspectives at runtime!\n",
    "\n",
    "First, check that unique sessions mapping to filepaths one-to-one. Then check that a mouse's image counts match the database's relationships."
   ]
  },
  {
   "cell_type": "code",
   "execution_count": 3,
   "id": "fa5d9b2b-1ffe-44ea-84f0-1e7bb51c413d",
   "metadata": {},
   "outputs": [
    {
     "name": "stdout",
     "output_type": "stream",
     "text": [
      "Success! (Counts match)\n",
      "                         count:  2765\n",
      "      count_w_unique_mouse_uid:  1818\n",
      "   count_w_ambiguous_mouse_uid:   947\n",
      "Success!\n"
     ]
    }
   ],
   "source": [
    "count_total = d['ImagingSession']['count']\n",
    "count_combined = d['ImagingSession']['count_w_unique_mouse_uid'] + d['ImagingSession']['count_w_ambiguous_mouse_uid']\n",
    "if not count_total == count_combined:\n",
    "    print(f\"WARNING: Counts not matching!\")\n",
    "    print(f\"            TOTAL: {count_total:5d}\")\n",
    "    print(f\"         COMBINED: {count_total:5d}\")\n",
    "    \n",
    "else:\n",
    "    print(f\"Success! (Counts match)\")\n",
    "    for _k, _v in d['ImagingSession'].items():\n",
    "        print(f\"{_k:>30s}: {_v:5d}\")\n",
    "\n",
    "\n",
    "mice = d['Mouse']['ImagingSessions']['unique']\n",
    "_filt = mice.apply(lambda row: len(row['filepaths']) == row['session_count'], axis=1)\n",
    "if len(mice[~_filt]):\n",
    "    print(\"WARNING: Session counts do not match found filepaths.\")\n",
    "else:\n",
    "    print(\"Success!\")\n",
    "\n",
    "mice = mice[mice['session_count'] >= 3].reset_index(drop=True)"
   ]
  },
  {
   "cell_type": "markdown",
   "id": "76a752c1-2bb0-4958-9706-c81f541fbc0b",
   "metadata": {},
   "source": [
    "## An example pull, enrich, and then push"
   ]
  },
  {
   "cell_type": "markdown",
   "id": "08909604-a00e-4758-bb7f-af4eeba7fa2b",
   "metadata": {
    "jp-MarkdownHeadingCollapsed": true
   },
   "source": [
    "### Pull\n",
    "First we pull a useful set of data we want to use and enrich"
   ]
  },
  {
   "cell_type": "code",
   "execution_count": 6,
   "id": "8ab91ffb-825e-4263-99b2-7f0a7206f76f",
   "metadata": {},
   "outputs": [],
   "source": [
    "sessions = fetch_imaging_session_by_mouse_and_date(session_count_min=3)"
   ]
  },
  {
   "cell_type": "markdown",
   "id": "476aaace-7775-4331-8a7a-57d9930b3fcb",
   "metadata": {
    "jp-MarkdownHeadingCollapsed": true
   },
   "source": [
    "### Enrich\n",
    "Then we will enirch the dataset - just enriching with an example of a random stat."
   ]
  },
  {
   "cell_type": "code",
   "execution_count": null,
   "id": "65fde63d-a383-4ad8-8faf-ac234a30c580",
   "metadata": {},
   "outputs": [],
   "source": [
    "sessions['Label'] = \"Analysis\"\n",
    "sessions['is'] = 'ml_model_12345_v2' ## change this by measurement\n",
    "sessions['value'] = np.random.rand(len(sessions)) ## edit this for whatever you want to push back in\n",
    "sessions['units'] = 'probability (0-1)' # edit this to describe the measurement clearlyy\n",
    "sessions['Link_Label'] = 'ImagingSession'"
   ]
  },
  {
   "cell_type": "markdown",
   "id": "befdab42-9644-4ad2-a986-48c2c78a56be",
   "metadata": {
    "jp-MarkdownHeadingCollapsed": true
   },
   "source": [
    "### Push\n",
    "\n",
    "Finally, we will use one of the `Neo4jConnection` member functions to push and link to existing nodes."
   ]
  },
  {
   "cell_type": "code",
   "execution_count": 8,
   "id": "2ede20ae-9c4b-4342-a0ce-2307b4f0e8be",
   "metadata": {},
   "outputs": [],
   "source": [
    "# neocon.push_dataframe(df=sessions, label_col='Label', property_cols=['uid', 'date', ''],  match_cols=['uid','date'])\n",
    "\n",
    "neocon.push_and_link_dataframe(\n",
    "    sessions,\n",
    "    label_col='Label', \n",
    "    property_cols=['uid', 'date', 'is', 'value', 'units'], \n",
    "    match_cols=['uid', 'date', 'is'],\n",
    "    node_match_label='Link_Label', \n",
    "    node_match_properties=['uid', 'date'], \n",
    "    node_match_relationship_type='ANALYZED'\n",
    ")"
   ]
  },
  {
   "cell_type": "markdown",
   "id": "a2054560-afc9-4d33-861a-b4935849c216",
   "metadata": {},
   "source": [
    "NOTE: This process can be be adapted and repeated on the same match_cols and property calls - just needs to be Cypher friendly."
   ]
  }
 ],
 "metadata": {
  "kernelspec": {
   "display_name": "Python 3 (ipykernel)",
   "language": "python",
   "name": "python3"
  },
  "language_info": {
   "codemirror_mode": {
    "name": "ipython",
    "version": 3
   },
   "file_extension": ".py",
   "mimetype": "text/x-python",
   "name": "python",
   "nbconvert_exporter": "python",
   "pygments_lexer": "ipython3",
   "version": "3.9.12"
  }
 },
 "nbformat": 4,
 "nbformat_minor": 5
}
