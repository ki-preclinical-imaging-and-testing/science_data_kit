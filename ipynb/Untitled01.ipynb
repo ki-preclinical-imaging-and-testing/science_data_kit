{
 "cells": [
  {
   "cell_type": "code",
   "execution_count": 5,
   "id": "70c666b6-176b-46a4-b30f-1924486933b2",
   "metadata": {},
   "outputs": [],
   "source": [
    "import pandas as pd\n",
    "\n",
    "df = pd.read_csv(\"2025-04-22T15-12_export.csv\")"
   ]
  },
  {
   "cell_type": "code",
   "execution_count": 6,
   "id": "41f70af9-e473-435d-96da-a697a8e14989",
   "metadata": {},
   "outputs": [
    {
     "data": {
      "text/plain": [
       "Index(['Unnamed: 0', 'diskUsage_bytes', 'ncdu_type', 'size_bytes', 'filepath'], dtype='object')"
      ]
     },
     "execution_count": 6,
     "metadata": {},
     "output_type": "execute_result"
    }
   ],
   "source": [
    "df.columns"
   ]
  },
  {
   "cell_type": "code",
   "execution_count": 7,
   "id": "5b50baa7-256e-4558-9d7d-6ca25230a7f1",
   "metadata": {},
   "outputs": [],
   "source": [
    "df.drop(columns=['Unnamed: 0'], inplace=True)"
   ]
  },
  {
   "cell_type": "code",
   "execution_count": 9,
   "id": "a4bfdc44-c74f-438b-ba3c-5b38db81acc2",
   "metadata": {},
   "outputs": [],
   "source": [
    "from pathlib import Path"
   ]
  },
  {
   "cell_type": "code",
   "execution_count": 11,
   "id": "be6ac705-03ac-4355-aaa6-2ec1a7e3c18e",
   "metadata": {},
   "outputs": [],
   "source": [
    "df['name'] = df['filepath'].apply(lambda x: Path(x).name)"
   ]
  },
  {
   "cell_type": "code",
   "execution_count": 15,
   "id": "b7a4719c-65b5-4f8b-ae7b-71c84e6f12ea",
   "metadata": {},
   "outputs": [],
   "source": [
    "df['depth'] = df['filepath'].apply(lambda x: len(x.split('/')))"
   ]
  },
  {
   "cell_type": "code",
   "execution_count": 18,
   "id": "ae2695a2-2891-4e23-a0d6-7b6d28708d9d",
   "metadata": {},
   "outputs": [],
   "source": [
    "df['depth'] = df['depth'] - (df['depth'].min())"
   ]
  },
  {
   "cell_type": "code",
   "execution_count": 19,
   "id": "b7389dfe-d985-41e0-a83b-8a6565c979c1",
   "metadata": {},
   "outputs": [
    {
     "data": {
      "text/html": [
       "<div>\n",
       "<style scoped>\n",
       "    .dataframe tbody tr th:only-of-type {\n",
       "        vertical-align: middle;\n",
       "    }\n",
       "\n",
       "    .dataframe tbody tr th {\n",
       "        vertical-align: top;\n",
       "    }\n",
       "\n",
       "    .dataframe thead th {\n",
       "        text-align: right;\n",
       "    }\n",
       "</style>\n",
       "<table border=\"1\" class=\"dataframe\">\n",
       "  <thead>\n",
       "    <tr style=\"text-align: right;\">\n",
       "      <th></th>\n",
       "      <th>diskUsage_bytes</th>\n",
       "      <th>ncdu_type</th>\n",
       "      <th>size_bytes</th>\n",
       "      <th>filepath</th>\n",
       "      <th>name</th>\n",
       "      <th>depth</th>\n",
       "    </tr>\n",
       "  </thead>\n",
       "  <tbody>\n",
       "    <tr>\n",
       "      <th>0</th>\n",
       "      <td>0</td>\n",
       "      <td>Directory</td>\n",
       "      <td>0</td>\n",
       "      <td>/mnt/server/bmc-lab6/atwai/archive/ultrasound/...</td>\n",
       "      <td>Will Freed-Pastor</td>\n",
       "      <td>0</td>\n",
       "    </tr>\n",
       "    <tr>\n",
       "      <th>1</th>\n",
       "      <td>0</td>\n",
       "      <td>Directory</td>\n",
       "      <td>0</td>\n",
       "      <td>/mnt/server/bmc-lab6/atwai/archive/ultrasound/...</td>\n",
       "      <td>06-06-21_2021-06-06-18-00-06_Guest</td>\n",
       "      <td>1</td>\n",
       "    </tr>\n",
       "    <tr>\n",
       "      <th>2</th>\n",
       "      <td>0</td>\n",
       "      <td>Directory</td>\n",
       "      <td>0</td>\n",
       "      <td>/mnt/server/bmc-lab6/atwai/archive/ultrasound/...</td>\n",
       "      <td>20210606220006938</td>\n",
       "      <td>2</td>\n",
       "    </tr>\n",
       "    <tr>\n",
       "      <th>3</th>\n",
       "      <td>0</td>\n",
       "      <td>Directory</td>\n",
       "      <td>0</td>\n",
       "      <td>/mnt/server/bmc-lab6/atwai/archive/ultrasound/...</td>\n",
       "      <td>20210606220726806</td>\n",
       "      <td>2</td>\n",
       "    </tr>\n",
       "    <tr>\n",
       "      <th>4</th>\n",
       "      <td>0</td>\n",
       "      <td>Directory</td>\n",
       "      <td>0</td>\n",
       "      <td>/mnt/server/bmc-lab6/atwai/archive/ultrasound/...</td>\n",
       "      <td>20210606221313289</td>\n",
       "      <td>2</td>\n",
       "    </tr>\n",
       "    <tr>\n",
       "      <th>...</th>\n",
       "      <td>...</td>\n",
       "      <td>...</td>\n",
       "      <td>...</td>\n",
       "      <td>...</td>\n",
       "      <td>...</td>\n",
       "      <td>...</td>\n",
       "    </tr>\n",
       "    <tr>\n",
       "      <th>1795</th>\n",
       "      <td>0</td>\n",
       "      <td>Directory</td>\n",
       "      <td>0</td>\n",
       "      <td>/mnt/server/bmc-lab6/atwai/archive/ultrasound/...</td>\n",
       "      <td>20220919143402972</td>\n",
       "      <td>2</td>\n",
       "    </tr>\n",
       "    <tr>\n",
       "      <th>1796</th>\n",
       "      <td>0</td>\n",
       "      <td>Directory</td>\n",
       "      <td>0</td>\n",
       "      <td>/mnt/server/bmc-lab6/atwai/archive/ultrasound/...</td>\n",
       "      <td>20220919143550078</td>\n",
       "      <td>2</td>\n",
       "    </tr>\n",
       "    <tr>\n",
       "      <th>1797</th>\n",
       "      <td>0</td>\n",
       "      <td>Directory</td>\n",
       "      <td>0</td>\n",
       "      <td>/mnt/server/bmc-lab6/atwai/archive/ultrasound/...</td>\n",
       "      <td>20220919143914534</td>\n",
       "      <td>2</td>\n",
       "    </tr>\n",
       "    <tr>\n",
       "      <th>1798</th>\n",
       "      <td>0</td>\n",
       "      <td>Directory</td>\n",
       "      <td>0</td>\n",
       "      <td>/mnt/server/bmc-lab6/atwai/archive/ultrasound/...</td>\n",
       "      <td>20220919144251461</td>\n",
       "      <td>2</td>\n",
       "    </tr>\n",
       "    <tr>\n",
       "      <th>1799</th>\n",
       "      <td>0</td>\n",
       "      <td>Directory</td>\n",
       "      <td>0</td>\n",
       "      <td>/mnt/server/bmc-lab6/atwai/archive/ultrasound/...</td>\n",
       "      <td>20220919144416390</td>\n",
       "      <td>2</td>\n",
       "    </tr>\n",
       "  </tbody>\n",
       "</table>\n",
       "<p>1800 rows × 6 columns</p>\n",
       "</div>"
      ],
      "text/plain": [
       "      diskUsage_bytes  ncdu_type  size_bytes  \\\n",
       "0                   0  Directory           0   \n",
       "1                   0  Directory           0   \n",
       "2                   0  Directory           0   \n",
       "3                   0  Directory           0   \n",
       "4                   0  Directory           0   \n",
       "...               ...        ...         ...   \n",
       "1795                0  Directory           0   \n",
       "1796                0  Directory           0   \n",
       "1797                0  Directory           0   \n",
       "1798                0  Directory           0   \n",
       "1799                0  Directory           0   \n",
       "\n",
       "                                               filepath  \\\n",
       "0     /mnt/server/bmc-lab6/atwai/archive/ultrasound/...   \n",
       "1     /mnt/server/bmc-lab6/atwai/archive/ultrasound/...   \n",
       "2     /mnt/server/bmc-lab6/atwai/archive/ultrasound/...   \n",
       "3     /mnt/server/bmc-lab6/atwai/archive/ultrasound/...   \n",
       "4     /mnt/server/bmc-lab6/atwai/archive/ultrasound/...   \n",
       "...                                                 ...   \n",
       "1795  /mnt/server/bmc-lab6/atwai/archive/ultrasound/...   \n",
       "1796  /mnt/server/bmc-lab6/atwai/archive/ultrasound/...   \n",
       "1797  /mnt/server/bmc-lab6/atwai/archive/ultrasound/...   \n",
       "1798  /mnt/server/bmc-lab6/atwai/archive/ultrasound/...   \n",
       "1799  /mnt/server/bmc-lab6/atwai/archive/ultrasound/...   \n",
       "\n",
       "                                    name  depth  \n",
       "0                      Will Freed-Pastor      0  \n",
       "1     06-06-21_2021-06-06-18-00-06_Guest      1  \n",
       "2                      20210606220006938      2  \n",
       "3                      20210606220726806      2  \n",
       "4                      20210606221313289      2  \n",
       "...                                  ...    ...  \n",
       "1795                   20220919143402972      2  \n",
       "1796                   20220919143550078      2  \n",
       "1797                   20220919143914534      2  \n",
       "1798                   20220919144251461      2  \n",
       "1799                   20220919144416390      2  \n",
       "\n",
       "[1800 rows x 6 columns]"
      ]
     },
     "execution_count": 19,
     "metadata": {},
     "output_type": "execute_result"
    }
   ],
   "source": [
    "df"
   ]
  },
  {
   "cell_type": "code",
   "execution_count": 20,
   "id": "b4e64a1f-7668-4c2f-8873-047c040c57ba",
   "metadata": {},
   "outputs": [],
   "source": [
    "def sort_ncdu_type(x):\n",
    "    if x == 'Directory':\n",
    "        return 'Folder'\n",
    "    elif x == 'File':\n",
    "        return x\n",
    "    else:\n",
    "        return None\n",
    "\n",
    "df['target_label'] = df['ncdu_type'].apply(sort_ncdu_type)"
   ]
  },
  {
   "cell_type": "code",
   "execution_count": 22,
   "id": "41d1b33c-6e38-4205-98b8-73a0a05d3276",
   "metadata": {},
   "outputs": [
    {
     "data": {
      "text/plain": [
       "target_label\n",
       "Folder    1800\n",
       "Name: count, dtype: int64"
      ]
     },
     "execution_count": 22,
     "metadata": {},
     "output_type": "execute_result"
    }
   ],
   "source": [
    "df['target_label'].value_counts()"
   ]
  },
  {
   "cell_type": "code",
   "execution_count": null,
   "id": "58fcd12c-ca69-4c16-a5ae-664eca7f8ee8",
   "metadata": {},
   "outputs": [],
   "source": []
  }
 ],
 "metadata": {
  "kernelspec": {
   "display_name": "Python 3 (ipykernel)",
   "language": "python",
   "name": "python3"
  },
  "language_info": {
   "codemirror_mode": {
    "name": "ipython",
    "version": 3
   },
   "file_extension": ".py",
   "mimetype": "text/x-python",
   "name": "python",
   "nbconvert_exporter": "python",
   "pygments_lexer": "ipython3",
   "version": "3.11.6"
  }
 },
 "nbformat": 4,
 "nbformat_minor": 5
}
