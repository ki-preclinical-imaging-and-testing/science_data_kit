{
 "cells": [
  {
   "cell_type": "code",
   "execution_count": 27,
   "id": "582e297b-1010-40a0-b3bb-a484fa93e397",
   "metadata": {},
   "outputs": [],
   "source": [
    "import pandas as pd\n",
    "from pathlib import Path\n",
    "\n",
    "df = pd.read_csv(\"2025-02-06T23-53_export.csv\")\n",
    "df.drop(columns=['Unnamed: 0'], inplace=True)\n",
    "base = '/home/patch/Music'\n",
    "df = df[df['Path'].apply(lambda x: len(x.split('/')) == 5)].reset_index(drop=True)\n",
    "df['Name'] = df['Path'].apply(lambda x: Path(x).name)\n"
   ]
  },
  {
   "cell_type": "code",
   "execution_count": 28,
   "id": "6483155f-5915-4e97-964d-a23e00fd11b9",
   "metadata": {},
   "outputs": [],
   "source": [
    "df['Artist'] = 'Patches'\n",
    "df['Album'] = None\n",
    "df['Date'] = None"
   ]
  },
  {
   "cell_type": "code",
   "execution_count": 29,
   "id": "e04e893b-97c1-45b2-acee-240bc9eff0d7",
   "metadata": {},
   "outputs": [
    {
     "name": "stderr",
     "output_type": "stream",
     "text": [
      "/tmp/ipykernel_169073/18381991.py:1: SettingWithCopyWarning: \n",
      "A value is trying to be set on a copy of a slice from a DataFrame.\n",
      "Try using .loc[row_indexer,col_indexer] = value instead\n",
      "\n",
      "See the caveats in the documentation: https://pandas.pydata.org/pandas-docs/stable/user_guide/indexing.html#returning-a-view-versus-a-copy\n",
      "  df[df['Name'].apply(lambda x: 'Pond' in x)]['Artist'] = 'Pond Dragons'\n"
     ]
    }
   ],
   "source": [
    "df['Date'] = df['Path'].apply(lambda x: Path(x).)"
   ]
  },
  {
   "cell_type": "code",
   "execution_count": 31,
   "id": "0eca5835-fee3-4409-bc02-15a7caa0f649",
   "metadata": {},
   "outputs": [],
   "source": [
    "df.to_csv('musical.csv')"
   ]
  },
  {
   "cell_type": "code",
   "execution_count": 50,
   "id": "b10dfe9f-7a9c-4dd5-8f90-25c4f68313c4",
   "metadata": {},
   "outputs": [],
   "source": [
    "import os\n",
    "import datetime\n",
    "\n",
    "def creation_date(x):\n",
    "    creation_time = os.stat(Path(x)).st_ctime\n",
    "    return datetime.date.fromtimestamp(creation_time)\n",
    "\n",
    "df['Date'] = df['Path'].apply(lambda x: creation_date(x))"
   ]
  },
  {
   "cell_type": "code",
   "execution_count": 54,
   "id": "2b293191-b050-4c5b-8b64-f6a7924847fe",
   "metadata": {},
   "outputs": [],
   "source": [
    "def guess_album_from_names(x):\n",
    "    if 'Untitled' in x:\n",
    "        return 'Untitled'\n",
    "    elif 'test' in x:\n",
    "        return 'testing'\n",
    "    elif 'Pond' in x:\n",
    "        return 'PondDragons'\n",
    "    else:\n",
    "        return 'Buncha Randos'\n",
    "    \n",
    "df['Album'] = df['Name'].apply(lambda x: guess_album_from_names(x))"
   ]
  },
  {
   "cell_type": "code",
   "execution_count": 56,
   "id": "30c397fb-6dc0-41d3-b04a-f06a1bf80778",
   "metadata": {},
   "outputs": [],
   "source": [
    "def guess_artist_from_names(x):\n",
    "    if 'Pond' in x:\n",
    "        return 'Pond Dragons'\n",
    "    else:\n",
    "        return 'Patches'\n",
    "    \n",
    "df['Artist'] = df['Name'].apply(lambda x: guess_artist_from_names(x))"
   ]
  },
  {
   "cell_type": "code",
   "execution_count": 58,
   "id": "7506c640-26e8-44b5-b627-fd0f1db95665",
   "metadata": {},
   "outputs": [],
   "source": [
    "df['Label'] = 'AudioRecording'"
   ]
  },
  {
   "cell_type": "code",
   "execution_count": 61,
   "id": "a65da667-9d40-4417-8da2-276a5ff65cdf",
   "metadata": {},
   "outputs": [],
   "source": [
    "df['filepath'] = df['Path']"
   ]
  },
  {
   "cell_type": "code",
   "execution_count": 62,
   "id": "157c7fd9-0f7f-41bd-af63-c51485de4a99",
   "metadata": {},
   "outputs": [],
   "source": [
    "df.to_csv('music_entities.csv')"
   ]
  },
  {
   "cell_type": "code",
   "execution_count": null,
   "id": "db16b025-e763-4c02-b435-b95672ec42f9",
   "metadata": {},
   "outputs": [],
   "source": []
  }
 ],
 "metadata": {
  "kernelspec": {
   "display_name": "Python 3 (ipykernel)",
   "language": "python",
   "name": "python3"
  },
  "language_info": {
   "codemirror_mode": {
    "name": "ipython",
    "version": 3
   },
   "file_extension": ".py",
   "mimetype": "text/x-python",
   "name": "python",
   "nbconvert_exporter": "python",
   "pygments_lexer": "ipython3",
   "version": "3.9.12"
  }
 },
 "nbformat": 4,
 "nbformat_minor": 5
}
